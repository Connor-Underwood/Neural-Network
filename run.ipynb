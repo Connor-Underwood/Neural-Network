{
 "cells": [
  {
   "cell_type": "code",
   "execution_count": 1,
   "metadata": {},
   "outputs": [],
   "source": [
    "import numpy as np\n",
    "import matplotlib.pyplot as plt\n",
    "import scipy.special"
   ]
  },
  {
   "cell_type": "code",
   "execution_count": 2,
   "metadata": {},
   "outputs": [],
   "source": [
    "class NeuralNetwork:\n",
    "\n",
    "    def __init__(self, input_nodes: int, hidden_nodes : int, output_nodes: int,\n",
    "                 learning_rate:float):\n",
    "        self.inodes = input_nodes\n",
    "        self.hnodes = hidden_nodes\n",
    "        self.onodes = output_nodes\n",
    "        self.lr = learning_rate\n",
    "        self.activation = lambda x: scipy.special.expit(x) # sigmoid activation\n",
    "        self.activation_prime = lambda x : scipy.special.expit(x) * (1-scipy.special.expit(x)) # derivative of sigmoid\n",
    "        # I'm setting the weight range the weight matrices to 1/sqrt()\n",
    "        # input to hidden\n",
    "        self.wih = np.random.normal(loc=0.0, scale=pow(self.hnodes, -.5), size=(self.hnodes, self.inodes))\n",
    "\n",
    "        # hidden to output\n",
    "        self.who = np.random.normal(loc=0.0, scale=pow(self.onodes, -.5), size=(self.onodes, self.hnodes))\n",
    "\n",
    "\n",
    "    def train(self, input_list, target_list):\n",
    "        # turns into (n, 1) column vectors\n",
    "        inputs = np.array(input_list, ndmin=2).T \n",
    "        targets = np.array(target_list, ndmin=2).T\n",
    "\n",
    "        hidden_inputs = np.dot(self.wih, inputs)\n",
    "        hidden_outputs = self.activation(hidden_inputs)\n",
    "\n",
    "        final_inputs = np.dot(self.who, hidden_outputs)\n",
    "        final_outputs = self.activation(final_inputs)\n",
    "        \n",
    "        error_output = targets-final_outputs\n",
    "\n",
    "        # now we have the error output, time to update our weight matrices\n",
    "\n",
    "        # FO is final output\n",
    "        # We need to find how the error responds to changes in weights. dE/dw(i,j).\n",
    "        # By chain rule this is dE/dFO * dFO/dw(i,j)\n",
    "        # Change in final output with respect to weights is just the derivative of the activation function since we just did \n",
    "        # final_output = activation(final_input)\n",
    "        # We still need to dot the hidden inputs because the activation function is a function of the inputs & weights. \n",
    "        # Essentially: activation_function = sum of (w(i,j) * Ii)\n",
    "        # Since we're taking the derivative wrt w(i,j) the input Ii (hidden_inputs) is what's left\n",
    "        self.who += np.dot(self.lr * error_output * self.activation_prime(final_outputs), hidden_outputs.T)\n",
    "\n",
    "        error_hidden = np.dot(self.who.T, error_output) # multiply the error_output by its respective weight so \n",
    "        # larger and smaller error are effected by the weight\n",
    "        self.wih += np.dot(self.lr * error_hidden * self.activation_prime(hidden_outputs), inputs.T)\n",
    "\n",
    "\n",
    "\n",
    "    def query(self, input_list):\n",
    "        # takes a horizontal list of inputs and converts them to 2D column vector\n",
    "        inputs = np.array(input_list, ndmin=2).T\n",
    "        #print(f'inputs = {inputs}')\n",
    "        # calculating signals into the hidden layer\n",
    "        hidden_inputs = np.dot(self.wih, inputs) # (3,3) * (3,1)\n",
    "        #print(f'hidden layer inputs = {hidden_inputs}')\n",
    "\n",
    "        # applying activation function to signals\n",
    "        hidden_outputs = self.activation(hidden_inputs)\n",
    "        #print(f'hidden layer outputs = {hidden_outputs}')\n",
    "\n",
    "        # calculating signals into the final layer\n",
    "        final_inputs = np.dot(self.who, hidden_outputs)\n",
    "        #print(f'final layer inputs = {final_inputs}')\n",
    "        \n",
    "        # applying activation function to signals\n",
    "        final_outputs = self.activation(final_inputs)\n",
    "        #print(f'final layer outputs = {final_outputs}')\n",
    "        print(f\"i believe the number is {np.where(final_outputs == final_outputs.max())[0]}\")\n",
    "        return final_outputs"
   ]
  },
  {
   "cell_type": "code",
   "execution_count": 3,
   "metadata": {},
   "outputs": [],
   "source": [
    "test_file = open(\"mnist_data/test.csv\")\n",
    "train_file = open(\"mnist_data/training.csv\")\n",
    "\n",
    "test_list = test_file.readlines()\n",
    "train_list = train_file.readlines()\n",
    "\n",
    "test_file.close()\n",
    "train_file.close()\n"
   ]
  },
  {
   "cell_type": "code",
   "execution_count": 4,
   "metadata": {},
   "outputs": [
    {
     "data": {
      "text/plain": [
       "<matplotlib.image.AxesImage at 0x10ac0f9d0>"
      ]
     },
     "execution_count": 4,
     "metadata": {},
     "output_type": "execute_result"
    },
    {
     "data": {
      "image/png": "[encoded data removed]",
      "text/plain": [
       "<Figure size 640x480 with 1 Axes>"
      ]
     },
     "metadata": {},
     "output_type": "display_data"
    }
   ],
   "source": [
    "all_values = train_list[1].split(\",\") # grabbing first image from training\n",
    "image_array = np.asarray(all_values[1:]).astype(float).reshape(28,28) # turning into 28x28 matrix\n",
    "plt.imshow(image_array, cmap=\"Greys\", interpolation=None)"
   ]
  },
  {
   "cell_type": "code",
   "execution_count": 7,
   "metadata": {},
   "outputs": [],
   "source": [
    "input_nodes = 784\n",
    "hidden_nodes = 100\n",
    "output_nodes = 10\n",
    "learning_rate = .3\n",
    "\n",
    "n = NeuralNetwork(input_nodes=input_nodes, hidden_nodes=hidden_nodes, output_nodes=output_nodes, learning_rate=learning_rate)\n"
   ]
  },
  {
   "cell_type": "code",
   "execution_count": 15,
   "metadata": {},
   "outputs": [],
   "source": [
    "for pixel_row in train_list:\n",
    "    values = pixel_row.split(\",\")\n",
    "    scaled_input = (np.array(values[1:]).astype(float) / 255.0*.99)+.01 # rescaling to 0-.99 scale, then adding .01 to get to .01-1.00 scale\n",
    "    target_values = [.01 for i in range(10)] # initialize outputs to .01 because activation function can't reach .01\n",
    "    target_values[int(values[0])] = .99 # initialize correct val to .99 because activation function can't reach .99\n",
    "    # its called saturation if weight keeps getting increased for a value the activation function can't output\n",
    "    n.train(scaled_input, target_values)"
   ]
  },
  {
   "cell_type": "code",
   "execution_count": 11,
   "metadata": {},
   "outputs": [
    {
     "data": {
      "text/plain": [
       "<matplotlib.image.AxesImage at 0x10dcd5450>"
      ]
     },
     "execution_count": 11,
     "metadata": {},
     "output_type": "execute_result"
    },
    {
     "data": {
      "image/png": "[encoded data removed]",
      "text/plain": [
       "<Figure size 640x480 with 1 Axes>"
      ]
     },
     "metadata": {},
     "output_type": "display_data"
    }
   ],
   "source": [
    "all_values = test_list[0].split(\",\")\n",
    "image_array = np.asarray(all_values[1:]).astype(float).reshape(28,28) # turning into 28x28 matrix\n",
    "plt.imshow(image_array, cmap=\"Greys\", interpolation=None)\n"
   ]
  },
  {
   "cell_type": "code",
   "execution_count": 16,
   "metadata": {},
   "outputs": [
    {
     "name": "stdout",
     "output_type": "stream",
     "text": [
      "i believe the number is [7]\n"
     ]
    },
    {
     "data": {
      "text/plain": [
       "array([[0.08033276],\n",
       "       [0.08851875],\n",
       "       [0.01011514],\n",
       "       [0.01278727],\n",
       "       [0.09202708],\n",
       "       [0.00486475],\n",
       "       [0.01386453],\n",
       "       [0.60807702],\n",
       "       [0.01203225],\n",
       "       [0.00349545]])"
      ]
     },
     "execution_count": 16,
     "metadata": {},
     "output_type": "execute_result"
    }
   ],
   "source": [
    "n.query((np.array(all_values[1:]).astype(int) / 255 * .99)+.01)"
   ]
  },
  {
   "cell_type": "code",
   "execution_count": null,
   "metadata": {},
   "outputs": [],
   "source": []
  }
 ],
 "metadata": {
  "kernelspec": {
   "display_name": "env",
   "language": "python",
   "name": "python3"
  },
  "language_info": {
   "codemirror_mode": {
    "name": "ipython",
    "version": 3
   },
   "file_extension": ".py",
   "mimetype": "text/x-python",
   "name": "python",
   "nbconvert_exporter": "python",
   "pygments_lexer": "ipython3",
   "version": "3.11.2"
  }
 },
 "nbformat": 4,
 "nbformat_minor": 2
}
