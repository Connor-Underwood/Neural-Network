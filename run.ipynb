{
 "cells": [
  {
   "cell_type": "code",
   "execution_count": 78,
   "metadata": {},
   "outputs": [],
   "source": [
    "import numpy as np\n",
    "import matplotlib.pyplot as plt\n",
    "from scipy.special import expit, logit\n",
    "import scipy.ndimage"
   ]
  },
  {
   "cell_type": "code",
   "execution_count": 103,
   "metadata": {},
   "outputs": [],
   "source": [
    "class NeuralNetwork:\n",
    "\n",
    "    def __init__(self, input_nodes: int, hidden_nodes : int, output_nodes: int,\n",
    "                 learning_rate:float):\n",
    "        self.inodes = input_nodes\n",
    "        self.hnodes = hidden_nodes\n",
    "        self.onodes = output_nodes\n",
    "        self.lr = learning_rate\n",
    "        self.activation = lambda x: scipy.special.expit(x) # sigmoid activation\n",
    "        self.activation_prime = lambda x : scipy.special.expit(x) * (1-scipy.special.expit(x)) # derivative of sigmoid\n",
    "        self.inverse_activation = lambda x: scipy.special.logit(x)\n",
    "        # I'm setting the weight range the weight matrices to 1/sqrt(output nodes)\n",
    "\n",
    "        # input to hidden\n",
    "        # loc at 0 is mean centered at 0\n",
    "        self.wih = np.random.normal(loc=0.0, scale=pow(self.hnodes, -.5), size=(self.hnodes, self.inodes))\n",
    "\n",
    "        # hidden to output\n",
    "        self.who = np.random.normal(loc=0.0, scale=pow(self.onodes, -.5), size=(self.onodes, self.hnodes))\n",
    "\n",
    "\n",
    "\n",
    "    def train(self, input_list, target_list):\n",
    "        # turns into (n, 1) column vectors\n",
    "        inputs = np.array(input_list, ndmin=2).T \n",
    "        targets = np.array(target_list, ndmin=2).T\n",
    "\n",
    "        hidden_inputs = np.dot(self.wih, inputs)\n",
    "        hidden_outputs = self.activation(hidden_inputs)\n",
    "\n",
    "        final_inputs = np.dot(self.who, hidden_outputs)\n",
    "        final_outputs = self.activation(final_inputs)\n",
    "        \n",
    "        error_output = targets-final_outputs\n",
    "\n",
    "        # now we have the error output, time to update our weight matrices\n",
    "\n",
    "        # FO is final output\n",
    "        # We need to find how the error responds to changes in weights. dE/dw(i,j).\n",
    "        # By chain rule this is dE/dFO * dFO/dw(i,j)\n",
    "        # Change in final output with respect to weights is just the derivative of the activation function since we just did \n",
    "        # final_output = activation(final_input)\n",
    "        # We still need to dot the hidden inputs because the activation function is a function of the inputs & weights. \n",
    "        # Essentially: activation_function = sum of (w(i,j) * Ii)\n",
    "        # Since we're taking the derivative wrt w(i,j) the input Ii (hidden_inputs) is what's left\n",
    "        self.who += np.dot(self.lr * error_output * self.activation_prime(final_inputs), hidden_outputs.T)\n",
    "\n",
    "        error_hidden = np.dot(self.who.T, error_output) # multiply the error_output by its respective weight so \n",
    "        # larger and smaller error are effected by the weight\n",
    "        self.wih += np.dot(self.lr * error_hidden * hidden_outputs * (1-hidden_outputs), inputs.T)\n",
    "\n",
    "\n",
    "\n",
    "    def query(self, input_list):\n",
    "        # takes a horizontal list of inputs and converts them to 2D column vector\n",
    "        inputs = np.array(input_list, ndmin=2).T\n",
    "        #print(f'inputs = {inputs}')\n",
    "        # calculating signals into the hidden layer\n",
    "        hidden_inputs = np.dot(self.wih, inputs) # (3,3) * (3,1)\n",
    "        #print(f'hidden layer inputs = {hidden_inputs}')\n",
    "\n",
    "        # applying activation function to signals\n",
    "        hidden_outputs = self.activation(hidden_inputs)\n",
    "        #print(f'hidden layer outputs = {hidden_outputs}')\n",
    "\n",
    "        # calculating signals into the final layer\n",
    "        final_inputs = np.dot(self.who, hidden_outputs)\n",
    "        #print(f'final layer inputs = {final_inputs}')\n",
    "        \n",
    "        # applying activation function to signals\n",
    "        final_outputs = self.activation(final_inputs)\n",
    "        #print(f'final layer outputs = {final_outputs}')\n",
    "        #print(f\"i believe the number is {np.where(final_outputs == final_outputs.max())[0]}\")\n",
    "        return final_outputs\n",
    "    \n",
    "    def backquery(self, targets_list):\n",
    "        # transpose the targets list to a vertical array\n",
    "        final_outputs = np.array(targets_list, ndmin=2).T\n",
    "        \n",
    "        # calculate the signal into the final output layer\n",
    "        final_inputs = self.inverse_activation(final_outputs)\n",
    "\n",
    "        # calculate the signal out of the hidden layer\n",
    "        hidden_outputs = np.dot(self.who.T, final_inputs)\n",
    "        # scale them back to 0.01 to .99\n",
    "        hidden_outputs -= np.min(hidden_outputs)\n",
    "        hidden_outputs /= np.max(hidden_outputs)\n",
    "        hidden_outputs *= 0.98\n",
    "        hidden_outputs += 0.01\n",
    "        \n",
    "        # calculate the signal into the hidden layer\n",
    "        hidden_inputs = self.inverse_activation(hidden_outputs)\n",
    "        \n",
    "        # calculate the signal out of the input layer\n",
    "        inputs = np.dot(self.wih.T, hidden_inputs)\n",
    "        # scale them back to 0.01 to .99\n",
    "        inputs -= np.min(inputs)\n",
    "        inputs /= np.max(inputs)\n",
    "        inputs *= 0.98\n",
    "        inputs += 0.01\n",
    "        \n",
    "        return inputs"
   ]
  },
  {
   "cell_type": "code",
   "execution_count": 104,
   "metadata": {},
   "outputs": [],
   "source": [
    "test_file = open(\"mnist_data/mnist_testing_full.csv\")\n",
    "train_file = open(\"mnist_data/mnist_training_full.csv\")\n",
    "\n",
    "test_list = test_file.readlines()\n",
    "train_list = train_file.readlines()\n",
    "\n",
    "test_file.close()\n",
    "train_file.close()\n"
   ]
  },
  {
   "cell_type": "code",
   "execution_count": 105,
   "metadata": {},
   "outputs": [
    {
     "data": {
      "text/plain": [
       "<matplotlib.image.AxesImage at 0x1219c3690>"
      ]
     },
     "execution_count": 105,
     "metadata": {},
     "output_type": "execute_result"
    },
    {
     "data": {
      "image/png": "[encoded data removed]",
      "text/plain": [
       "<Figure size 640x480 with 1 Axes>"
      ]
     },
     "metadata": {},
     "output_type": "display_data"
    }
   ],
   "source": [
    "all_values = train_list[1].split(\",\") # grabbing first image from training\n",
    "image_array = np.asarray(all_values[1:]).astype(float).reshape(28,28) # turning into 28x28 matrix\n",
    "plt.imshow(image_array, cmap=\"Greys\", interpolation=None)"
   ]
  },
  {
   "cell_type": "code",
   "execution_count": 106,
   "metadata": {},
   "outputs": [],
   "source": [
    "input_nodes = 784\n",
    "hidden_nodes = 100\n",
    "output_nodes = 10\n",
    "learning_rate = .1\n",
    "\n",
    "n = NeuralNetwork(input_nodes=input_nodes, hidden_nodes=hidden_nodes, output_nodes=output_nodes, learning_rate=learning_rate)\n"
   ]
  },
  {
   "cell_type": "code",
   "execution_count": 107,
   "metadata": {},
   "outputs": [],
   "source": [
    "epochs = 3\n",
    "for epoch in range(epochs):\n",
    "    for pixel_row in train_list:\n",
    "        values = pixel_row.split(\",\")\n",
    "        scaled_input = (np.array(values[1:]).astype(float) / 255.0*.99)+.01 # rescaling to 0-.99 scale, then adding .01 to get to .01-1.00 scale\n",
    "        target_values = [.01 for i in range(10)] # initialize outputs to .01 because activation function can't reach .01\n",
    "        target_values[int(values[0])] = .99 # initialize correct val to .99 because activation function can't reach .99\n",
    "        # its called saturation if weight keeps getting increased for a value the activation function can't output\n",
    "        n.train(scaled_input, target_values)"
   ]
  },
  {
   "cell_type": "code",
   "execution_count": 108,
   "metadata": {},
   "outputs": [
    {
     "name": "stdout",
     "output_type": "stream",
     "text": [
      "96.06\n"
     ]
    }
   ],
   "source": [
    "guesses = []\n",
    "for pixel_row in test_list:\n",
    "    values = pixel_row.split(\",\")\n",
    "    scaled_input = (np.array(values[1:]).astype(float) / 255.0*.99)+.01\n",
    "    model_output = n.query(scaled_input)\n",
    "    guess = np.argmax(model_output)\n",
    "    label = int(values[0])\n",
    "    if label==guess:\n",
    "        guesses.append(1)\n",
    "    else:\n",
    "        guesses.append(0)\n",
    "\n",
    "print(np.sum(guesses) / len(guesses) * 100)"
   ]
  },
  {
   "cell_type": "code",
   "execution_count": 109,
   "metadata": {},
   "outputs": [
    {
     "data": {
      "text/plain": [
       "np.int64(5)"
      ]
     },
     "execution_count": 109,
     "metadata": {},
     "output_type": "execute_result"
    }
   ],
   "source": [
    "my_five = plt.imread(\"mnist_data/low_res_five.png\")\n",
    "my_five = my_five[:,:,0].flatten() # all rows, all columns, are RGB vals up to but including the 0th (which is none)\n",
    "my_five = (my_five / 255 * .99) + .01 # scale to .01 to 1\n",
    "output = n.query(my_five)\n",
    "guess = np.argmax(output)\n",
    "guess"
   ]
  },
  {
   "cell_type": "code",
   "execution_count": 110,
   "metadata": {},
   "outputs": [
    {
     "data": {
      "text/plain": [
       "np.int64(8)"
      ]
     },
     "execution_count": 110,
     "metadata": {},
     "output_type": "execute_result"
    }
   ],
   "source": [
    "han_lobster = plt.imread(\"mnist_data/lobster_inverted.png\")\n",
    "han_lobster = han_lobster[:,:,0].flatten() # all rows, all columns, are RGB vals up to but including the 0th (which is none)\n",
    "han_lobster = 255 - han_lobster\n",
    "han_lobster = (han_lobster / 255 * .99) + .01\n",
    "output = n.query(han_lobster)\n",
    "guess = np.argmax(output)\n",
    "guess"
   ]
  },
  {
   "cell_type": "code",
   "execution_count": 111,
   "metadata": {},
   "outputs": [
    {
     "data": {
      "text/plain": [
       "<matplotlib.image.AxesImage at 0x121a4d950>"
      ]
     },
     "execution_count": 111,
     "metadata": {},
     "output_type": "execute_result"
    },
    {
     "data": {
      "image/png": "[encoded data removed]",
      "text/plain": [
       "<Figure size 640x480 with 1 Axes>"
      ]
     },
     "metadata": {},
     "output_type": "display_data"
    }
   ],
   "source": [
    "label = 5\n",
    "targets = np.zeros(10) + .01\n",
    "targets[label] = .99\n",
    "image = n.backquery(targets_list=targets)\n",
    "plt.imshow(image.reshape(28,28), cmap='Greys', interpolation=None)"
   ]
  },
  {
   "cell_type": "code",
   "execution_count": null,
   "metadata": {},
   "outputs": [],
   "source": []
  }
 ],
 "metadata": {
  "kernelspec": {
   "display_name": "env",
   "language": "python",
   "name": "python3"
  },
  "language_info": {
   "codemirror_mode": {
    "name": "ipython",
    "version": 3
   },
   "file_extension": ".py",
   "mimetype": "text/x-python",
   "name": "python",
   "nbconvert_exporter": "python",
   "pygments_lexer": "ipython3",
   "version": "3.11.2"
  }
 },
 "nbformat": 4,
 "nbformat_minor": 2
}
